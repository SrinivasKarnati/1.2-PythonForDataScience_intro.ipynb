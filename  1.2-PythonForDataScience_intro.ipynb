{
  "cells": [
    {
      "cell_type": "markdown",
      "metadata": {
        "id": "view-in-github",
        "colab_type": "text"
      },
      "source": [
        "<a href=\"https://colab.research.google.com/github/SrinivasKarnati/1.2-PythonForDataScience_intro.ipynb/blob/main/%201.2-PythonForDataScience_intro.ipynb\" target=\"_parent\"><img src=\"https://colab.research.google.com/assets/colab-badge.svg\" alt=\"Open In Colab\"/></a>"
      ]
    },
    {
      "cell_type": "markdown",
      "id": "31d9a4c9",
      "metadata": {
        "origin_pos": 0,
        "id": "31d9a4c9"
      },
      "source": [
        "# Using Jupyter Notebooks\n",
        ":label:`sec_jupyter`\n",
        "\n",
        "\n",
        "This section describes how to edit and run the code\n",
        "in each section of this book\n",
        "using the Jupyter Notebook. Make sure you have\n",
        "installed Jupyter and downloaded the\n",
        "code as described in\n",
        ":ref:`chap_installation`.\n",
        "If you want to know more about Jupyter see the excellent tutorial in\n",
        "their [documentation](https://jupyter.readthedocs.io/en/latest/).\n",
        "\n",
        "\n",
        "## Editing and Running the Code Locally\n",
        "\n",
        "Suppose that the local path of the book's code is `xx/yy/d2l-en/`. Use the shell to change the directory to this path (`cd xx/yy/d2l-en`) and run the command `jupyter notebook`. If your browser does not do this automatically, open http://localhost:8888 and you will see the interface of Jupyter and all the folders containing the code of the book, as shown in :numref:`fig_jupyter00`.\n",
        "\n",
        "![The folders containing the code of this book.](https://github.com/d2l-ai/d2l-en-colab/blob/master/img/jupyter00.png?raw=1)\n",
        ":width:`600px`\n",
        ":label:`fig_jupyter00`\n",
        "\n",
        "\n",
        "You can access the notebook files by clicking on the folder displayed on the webpage.\n",
        "They usually have the suffix \".ipynb\".\n",
        "For the sake of brevity, we create a temporary \"test.ipynb\" file.\n",
        "The content displayed after you click it is\n",
        "shown in :numref:`fig_jupyter01`.\n",
        "This notebook includes a markdown cell and a code cell. The content in the markdown cell includes \"This Is a Title\" and \"This is text.\".\n",
        "The code cell contains two lines of Python code.\n",
        "\n",
        "![Markdown and code cells in the \"text.ipynb\" file.](https://github.com/d2l-ai/d2l-en-colab/blob/master/img/jupyter01.png?raw=1)\n",
        ":width:`600px`\n",
        ":label:`fig_jupyter01`\n",
        "\n",
        "\n",
        "Double click on the markdown cell to enter edit mode.\n",
        "Add a new text string \"Hello world.\" at the end of the cell, as shown in :numref:`fig_jupyter02`.\n",
        "\n",
        "![Edit the markdown cell.](https://github.com/d2l-ai/d2l-en-colab/blob/master/img/jupyter02.png?raw=1)\n",
        ":width:`600px`\n",
        ":label:`fig_jupyter02`\n",
        "\n",
        "\n",
        "As demonstrated in :numref:`fig_jupyter03`,\n",
        "click \"Cell\" $\\rightarrow$ \"Run Cells\" in the menu bar to run the edited cell.\n",
        "\n",
        "![Run the cell.](https://github.com/d2l-ai/d2l-en-colab/blob/master/img/jupyter03.png?raw=1)\n",
        ":width:`600px`\n",
        ":label:`fig_jupyter03`\n",
        "\n",
        "After running, the markdown cell is shown in :numref:`fig_jupyter04`.\n",
        "\n",
        "![The markdown cell after running.](https://github.com/d2l-ai/d2l-en-colab/blob/master/img/jupyter04.png?raw=1)\n",
        ":width:`600px`\n",
        ":label:`fig_jupyter04`\n",
        "\n",
        "\n",
        "Next, click on the code cell. Multiply the elements by 2 after the last line of code, as shown in :numref:`fig_jupyter05`.\n",
        "\n",
        "![Edit the code cell.](https://github.com/d2l-ai/d2l-en-colab/blob/master/img/jupyter05.png?raw=1)\n",
        ":width:`600px`\n",
        ":label:`fig_jupyter05`\n",
        "\n",
        "\n",
        "You can also run the cell with a shortcut (\"Ctrl + Enter\" by default) and obtain the output result from :numref:`fig_jupyter06`.\n",
        "\n",
        "![Run the code cell to obtain the output.](https://github.com/d2l-ai/d2l-en-colab/blob/master/img/jupyter06.png?raw=1)\n",
        ":width:`600px`\n",
        ":label:`fig_jupyter06`\n",
        "\n",
        "\n",
        "When a notebook contains more cells, we can click \"Kernel\" $\\rightarrow$ \"Restart & Run All\" in the menu bar to run all the cells in the entire notebook. By clicking \"Help\" $\\rightarrow$ \"Edit Keyboard Shortcuts\" in the menu bar, you can edit the shortcuts according to your preferences.\n",
        "\n",
        "## Advanced Options\n",
        "\n",
        "Beyond local editing two things are quite important: editing the notebooks in the markdown format and running Jupyter remotely.\n",
        "The latter matters when we want to run the code on a faster server.\n",
        "The former matters since Jupyter's native ipynb format stores a lot of auxiliary data that is\n",
        "irrelevant to the content,\n",
        "mostly related to how and where the code is run.\n",
        "This is confusing for Git, making\n",
        "reviewing contributions very difficult.\n",
        "Fortunately there is an alternative---native editing in the markdown format.\n",
        "\n",
        "### Markdown Files in Jupyter\n",
        "\n",
        "If you wish to contribute to the content of this book, you need to modify the\n",
        "source file (md file, not ipynb file) on GitHub.\n",
        "Using the notedown plugin we\n",
        "can modify notebooks in the md format directly in Jupyter.\n",
        "\n",
        "\n",
        "First, install the notedown plugin, run the Jupyter Notebook, and load the plugin:\n",
        "\n",
        "```\n",
        "pip install d2l-notedown  # You may need to uninstall the original notedown.\n",
        "jupyter notebook --NotebookApp.contents_manager_class='notedown.NotedownContentsManager'\n",
        "```\n",
        "\n",
        "You may also turn on the notedown plugin by default whenever you run the Jupyter Notebook.\n",
        "First, generate a Jupyter Notebook configuration file (if it has already been generated, you can skip this step).\n",
        "\n",
        "```\n",
        "jupyter notebook --generate-config\n",
        "```\n",
        "\n",
        "Then, add the following line to the end of the Jupyter Notebook configuration file (for Linux or macOS, usually in the path `~/.jupyter/jupyter_notebook_config.py`):\n",
        "\n",
        "```\n",
        "c.NotebookApp.contents_manager_class = 'notedown.NotedownContentsManager'\n",
        "```\n",
        "\n",
        "After that, you only need to run the `jupyter notebook` command to turn on the notedown plugin by default.\n",
        "\n",
        "### Running Jupyter Notebooks on a Remote Server\n",
        "\n",
        "Sometimes, you may want to run Jupyter notebooks on a remote server and access it through a browser on your local computer. If Linux or macOS is installed on your local machine (Windows can also support this function through third-party software such as PuTTY), you can use port forwarding:\n",
        "\n",
        "```\n",
        "ssh myserver -L 8888:localhost:8888\n",
        "```\n",
        "\n",
        "The above string `myserver` is the address of the remote server.\n",
        "Then we can use http://localhost:8888 to access the remote server `myserver` that runs Jupyter notebooks. We will detail on how to run Jupyter notebooks on AWS instances\n",
        "later in this appendix.\n",
        "\n",
        "### Timing\n",
        "\n",
        "We can use the `ExecuteTime` plugin to time the execution of each code cell in Jupyter notebooks.\n",
        "Use the following commands to install the plugin:\n",
        "\n",
        "```\n",
        "pip install jupyter_contrib_nbextensions\n",
        "jupyter contrib nbextension install --user\n",
        "jupyter nbextension enable execute_time/ExecuteTime\n",
        "```\n",
        "\n",
        "## Summary\n",
        "\n",
        "* Using the Jupyter Notebook tool, we can edit, run, and contribute to each section of the book.\n",
        "* We can run Jupyter notebooks on remote servers using port forwarding.\n",
        "\n",
        "\n",
        "## Exercises\n",
        "\n",
        "1. Edit and run the code in this book with the Jupyter Notebook on your local machine.\n",
        "1. Edit and run the code in this book with the Jupyter Notebook *remotely* via port forwarding.\n",
        "1. Compare the running time of the operations $\\mathbf{A}^\\top \\mathbf{B}$ and $\\mathbf{A} \\mathbf{B}$ for two square matrices in $\\mathbb{R}^{1024 \\times 1024}$. Which one is faster?\n",
        "\n",
        "\n",
        "[Discussions](https://discuss.d2l.ai/t/421)\n"
      ]
    },
    {
      "cell_type": "code",
      "source": [
        "price = 900\n",
        "# print the value saved in the variable 'price'\n",
        "print('The price of the mobile is $',price,sep='')"
      ],
      "metadata": {
        "colab": {
          "base_uri": "https://localhost:8080/"
        },
        "id": "4MSjT9U6o-Kz",
        "outputId": "b8c00b89-2172-4dd3-d20d-2ad1912a6030"
      },
      "id": "4MSjT9U6o-Kz",
      "execution_count": 2,
      "outputs": [
        {
          "output_type": "stream",
          "name": "stdout",
          "text": [
            "The price of the mobile is $900\n"
          ]
        }
      ]
    },
    {
      "cell_type": "code",
      "source": [
        "brand = 'Apple'\n",
        "# print the value saved in the variable 'brand'\n",
        "print('The brand of the mobile is',brand)"
      ],
      "metadata": {
        "colab": {
          "base_uri": "https://localhost:8080/"
        },
        "id": "7znQTuTrqMDs",
        "outputId": "65524cac-9acf-45a2-d18d-b8ac76e2c9cd"
      },
      "id": "7znQTuTrqMDs",
      "execution_count": 3,
      "outputs": [
        {
          "output_type": "stream",
          "name": "stdout",
          "text": [
            "The brand of the mobile is Apple\n"
          ]
        }
      ]
    },
    {
      "cell_type": "code",
      "source": [
        "ram = 4\n",
        "# print the value saved in the variable 'ram'\n",
        "print('The RAM of the mobile is', ram,'GB')"
      ],
      "metadata": {
        "colab": {
          "base_uri": "https://localhost:8080/"
        },
        "id": "9ehf7bh4qQC5",
        "outputId": "0bc91616-dfcc-4a1a-b434-11ba3ba9a187"
      },
      "id": "9ehf7bh4qQC5",
      "execution_count": 4,
      "outputs": [
        {
          "output_type": "stream",
          "name": "stdout",
          "text": [
            "The RAM of the mobile is 4 GB\n"
          ]
        }
      ]
    },
    {
      "cell_type": "code",
      "source": [
        "# store the internal storage (in GB) of the mobile in variable 'storage'.\n",
        "storage = 128\n",
        "# print the value saved in the variable 'Memory'\n",
        "print('The internal storage of the mobile is', storage, 'GB')"
      ],
      "metadata": {
        "colab": {
          "base_uri": "https://localhost:8080/"
        },
        "id": "AzWgqy6MqTG3",
        "outputId": "62c5e2b2-6f12-4d85-d100-cffe46e78d4a"
      },
      "id": "AzWgqy6MqTG3",
      "execution_count": 5,
      "outputs": [
        {
          "output_type": "stream",
          "name": "stdout",
          "text": [
            "The internal storage of the mobile is 128 GB\n"
          ]
        }
      ]
    },
    {
      "cell_type": "code",
      "source": [
        "is_billed = True\n",
        "print(is_billed)"
      ],
      "metadata": {
        "colab": {
          "base_uri": "https://localhost:8080/"
        },
        "id": "Z0HBSLBJqfxv",
        "outputId": "7bf1f58a-3525-48cd-bba7-19029302c4c9"
      },
      "id": "Z0HBSLBJqfxv",
      "execution_count": 6,
      "outputs": [
        {
          "output_type": "stream",
          "name": "stdout",
          "text": [
            "True\n"
          ]
        }
      ]
    },
    {
      "cell_type": "code",
      "source": [
        "type(price)"
      ],
      "metadata": {
        "colab": {
          "base_uri": "https://localhost:8080/"
        },
        "id": "vdgYHbkcqizb",
        "outputId": "f746c024-f63e-42e3-8169-f23b723000e5"
      },
      "id": "vdgYHbkcqizb",
      "execution_count": 7,
      "outputs": [
        {
          "output_type": "execute_result",
          "data": {
            "text/plain": [
              "int"
            ]
          },
          "metadata": {},
          "execution_count": 7
        }
      ]
    },
    {
      "cell_type": "code",
      "source": [
        "type(brand)"
      ],
      "metadata": {
        "colab": {
          "base_uri": "https://localhost:8080/"
        },
        "id": "Wk5O42dwqmH8",
        "outputId": "3449a127-0c17-4f05-b77d-95f70940371a"
      },
      "id": "Wk5O42dwqmH8",
      "execution_count": 9,
      "outputs": [
        {
          "output_type": "execute_result",
          "data": {
            "text/plain": [
              "str"
            ]
          },
          "metadata": {},
          "execution_count": 9
        }
      ]
    },
    {
      "cell_type": "code",
      "source": [
        "type(ram)"
      ],
      "metadata": {
        "colab": {
          "base_uri": "https://localhost:8080/"
        },
        "id": "Z8vtvr-FqpcU",
        "outputId": "63df378b-7a5d-42b9-935c-1185351e1f4f"
      },
      "id": "Z8vtvr-FqpcU",
      "execution_count": 10,
      "outputs": [
        {
          "output_type": "execute_result",
          "data": {
            "text/plain": [
              "int"
            ]
          },
          "metadata": {},
          "execution_count": 10
        }
      ]
    },
    {
      "cell_type": "code",
      "source": [
        "type(storage)"
      ],
      "metadata": {
        "colab": {
          "base_uri": "https://localhost:8080/"
        },
        "id": "9d23Y7uZqtnQ",
        "outputId": "b467b73a-8528-465a-dcba-ebbe78233a59"
      },
      "id": "9d23Y7uZqtnQ",
      "execution_count": 11,
      "outputs": [
        {
          "output_type": "execute_result",
          "data": {
            "text/plain": [
              "int"
            ]
          },
          "metadata": {},
          "execution_count": 11
        }
      ]
    },
    {
      "cell_type": "code",
      "source": [
        "type(is_billed)"
      ],
      "metadata": {
        "colab": {
          "base_uri": "https://localhost:8080/"
        },
        "id": "f9jTi2Iaquvn",
        "outputId": "265b8ea3-b155-44c7-af2f-8c4c463fd8f6"
      },
      "id": "f9jTi2Iaquvn",
      "execution_count": 12,
      "outputs": [
        {
          "output_type": "execute_result",
          "data": {
            "text/plain": [
              "bool"
            ]
          },
          "metadata": {},
          "execution_count": 12
        }
      ]
    },
    {
      "cell_type": "code",
      "source": [
        "bill = price + price\n",
        "# the same result can be achieved by multiplication.\n",
        "bill = price*2\n",
        "print('The bill amount is $',bill,sep='')"
      ],
      "metadata": {
        "colab": {
          "base_uri": "https://localhost:8080/"
        },
        "id": "HWN8PQDTqz8q",
        "outputId": "9b56679a-2371-46c4-b654-92ebb45269b0"
      },
      "id": "HWN8PQDTqz8q",
      "execution_count": 13,
      "outputs": [
        {
          "output_type": "stream",
          "name": "stdout",
          "text": [
            "The bill amount is $1800\n"
          ]
        }
      ]
    },
    {
      "cell_type": "code",
      "source": [
        "# store the price (in dollars) of the mobile in variable 'price'\n",
        "price = 900\n",
        "# store the discount amount in variable 'discount'\n",
        "discount = 15\n",
        "# calculate the discounted price\n",
        "price_after_discount = price - discount\n",
        "print('The price of the iPhone after the discount is $',price_after_discount,sep='')"
      ],
      "metadata": {
        "colab": {
          "base_uri": "https://localhost:8080/"
        },
        "id": "Dd7hWzH8q1e0",
        "outputId": "cb20f4d8-af5d-4d8c-dc0b-6301298486c1"
      },
      "id": "Dd7hWzH8q1e0",
      "execution_count": 14,
      "outputs": [
        {
          "output_type": "stream",
          "name": "stdout",
          "text": [
            "The price of the iPhone after the discount is $885\n"
          ]
        }
      ]
    },
    {
      "cell_type": "code",
      "source": [
        "# store the bill (in dollars) of the two mobiles in variable 'bill'\n",
        "bill = 1800\n",
        "# calculate the price of one mobile\n",
        "price = bill / 2\n",
        "print('The price of an Apple iPhone is $',price,sep='')"
      ],
      "metadata": {
        "colab": {
          "base_uri": "https://localhost:8080/"
        },
        "id": "iXxdDbagq47p",
        "outputId": "b6d016fe-869f-46ad-f43a-59123136bf76"
      },
      "id": "iXxdDbagq47p",
      "execution_count": 15,
      "outputs": [
        {
          "output_type": "stream",
          "name": "stdout",
          "text": [
            "The price of an Apple iPhone is $900.0\n"
          ]
        }
      ]
    },
    {
      "cell_type": "code",
      "source": [
        "# store the bill (in dollars) of the mobile in variable 'bill'\n",
        "bill = 3600\n",
        "# store the price (in dollars) of the mobile in variable 'price'\n",
        "price = 900\n",
        "# calculate the number of iPhones that the customer buys\n",
        "x = bill // price\n",
        "# double divided forces the answer to be an integer!\n",
        "print('The customer buys', x, 'Apple iPhones')"
      ],
      "metadata": {
        "colab": {
          "base_uri": "https://localhost:8080/"
        },
        "id": "5j2a_cgGq9Gj",
        "outputId": "91d59dd3-324d-40dd-947c-d873479893ed"
      },
      "id": "5j2a_cgGq9Gj",
      "execution_count": 16,
      "outputs": [
        {
          "output_type": "stream",
          "name": "stdout",
          "text": [
            "The customer buys 4 Apple iPhones\n"
          ]
        }
      ]
    },
    {
      "cell_type": "code",
      "source": [
        "# store the price (in dollars) of the mobile in variable 'price'\n",
        "price = 900\n",
        "# calculate the discount amount\n",
        "discount = price * 0.045\n",
        "# calculate the discounted price\n",
        "discounted_price = price - discount\n",
        "print('The discounted price of the iPhone is ' + str(discounted_price))"
      ],
      "metadata": {
        "colab": {
          "base_uri": "https://localhost:8080/"
        },
        "id": "EYMXiybTrBzu",
        "outputId": "892e73df-8be3-4c0a-dc10-8609fc99bba5"
      },
      "id": "EYMXiybTrBzu",
      "execution_count": 17,
      "outputs": [
        {
          "output_type": "stream",
          "name": "stdout",
          "text": [
            "The discounted price of the iPhone is 859.5\n"
          ]
        }
      ]
    },
    {
      "cell_type": "code",
      "source": [
        "type(discounted_price)"
      ],
      "metadata": {
        "colab": {
          "base_uri": "https://localhost:8080/"
        },
        "id": "UbEmsMl8rE7h",
        "outputId": "7b90e8b5-8734-4f39-859f-f594b873f448"
      },
      "id": "UbEmsMl8rE7h",
      "execution_count": 18,
      "outputs": [
        {
          "output_type": "execute_result",
          "data": {
            "text/plain": [
              "float"
            ]
          },
          "metadata": {},
          "execution_count": 18
        }
      ]
    },
    {
      "cell_type": "code",
      "source": [
        "print('The data type of variable price is',type(price))\n",
        "print('The data type of variable discount is',type(discount))"
      ],
      "metadata": {
        "colab": {
          "base_uri": "https://localhost:8080/"
        },
        "id": "l7_hOkLtrHdL",
        "outputId": "218f6ecc-956f-4f31-be51-214a7a6b9085"
      },
      "id": "l7_hOkLtrHdL",
      "execution_count": 19,
      "outputs": [
        {
          "output_type": "stream",
          "name": "stdout",
          "text": [
            "The data type of variable price is <class 'int'>\n",
            "The data type of variable discount is <class 'float'>\n"
          ]
        }
      ]
    },
    {
      "cell_type": "code",
      "source": [
        "brand + ' ' + str(ram) + 'GB'"
      ],
      "metadata": {
        "colab": {
          "base_uri": "https://localhost:8080/",
          "height": 35
        },
        "id": "AS3Fae5srMsh",
        "outputId": "9b973bd3-f4b7-4001-a0f4-2211e25a10b2"
      },
      "id": "AS3Fae5srMsh",
      "execution_count": 20,
      "outputs": [
        {
          "output_type": "execute_result",
          "data": {
            "text/plain": [
              "'Apple 4GB'"
            ],
            "application/vnd.google.colaboratory.intrinsic+json": {
              "type": "string"
            }
          },
          "metadata": {},
          "execution_count": 20
        }
      ]
    },
    {
      "cell_type": "code",
      "source": [
        "Brand = 'Apple'\n",
        "print (Brand)"
      ],
      "metadata": {
        "colab": {
          "base_uri": "https://localhost:8080/"
        },
        "id": "OVfEVHKtrPrq",
        "outputId": "99bba9e6-a19d-4284-f1f2-1641ed4e5c19"
      },
      "id": "OVfEVHKtrPrq",
      "execution_count": 21,
      "outputs": [
        {
          "output_type": "stream",
          "name": "stdout",
          "text": [
            "Apple\n"
          ]
        }
      ]
    },
    {
      "cell_type": "code",
      "source": [
        "brand_list = ['Apple', 'Samsung', 'LG', 'Xiaomi', 'Oppo']\n",
        "print(brand_list)"
      ],
      "metadata": {
        "colab": {
          "base_uri": "https://localhost:8080/"
        },
        "id": "DOZFcoCXrVZt",
        "outputId": "d81c6464-0395-4d04-fe6d-8638f4cc485e"
      },
      "id": "DOZFcoCXrVZt",
      "execution_count": 22,
      "outputs": [
        {
          "output_type": "stream",
          "name": "stdout",
          "text": [
            "['Apple', 'Samsung', 'LG', 'Xiaomi', 'Oppo']\n"
          ]
        }
      ]
    },
    {
      "cell_type": "code",
      "source": [
        "type(brand_list)"
      ],
      "metadata": {
        "colab": {
          "base_uri": "https://localhost:8080/"
        },
        "id": "-AZnlnhpsaIP",
        "outputId": "c2742a6a-54c9-41c4-e61c-a15e2167ea13"
      },
      "id": "-AZnlnhpsaIP",
      "execution_count": 23,
      "outputs": [
        {
          "output_type": "execute_result",
          "data": {
            "text/plain": [
              "list"
            ]
          },
          "metadata": {},
          "execution_count": 23
        }
      ]
    },
    {
      "cell_type": "code",
      "source": [
        "ram_list = [4, 12, 8, 8]\n",
        "storage_list = [128, 128, 64, 128]\n",
        "price_list = [900, 899, 600, 1000]"
      ],
      "metadata": {
        "id": "fy50trmSsd64"
      },
      "id": "fy50trmSsd64",
      "execution_count": 26,
      "outputs": []
    },
    {
      "cell_type": "code",
      "source": [
        "print(brand_list[0])"
      ],
      "metadata": {
        "colab": {
          "base_uri": "https://localhost:8080/"
        },
        "id": "B06GuvHrsiPa",
        "outputId": "27e55220-25e2-447a-9570-d1f2b5e1300f"
      },
      "id": "B06GuvHrsiPa",
      "execution_count": 24,
      "outputs": [
        {
          "output_type": "stream",
          "name": "stdout",
          "text": [
            "Apple\n"
          ]
        }
      ]
    },
    {
      "cell_type": "code",
      "source": [
        "print('RAM List:', ram_list)\n",
        "print('Storage List:', storage_list)\n",
        "print('Price List:', price_list)"
      ],
      "metadata": {
        "colab": {
          "base_uri": "https://localhost:8080/"
        },
        "id": "Q1p_du0xsoEQ",
        "outputId": "d6c3e56d-f3d6-4211-a886-f9cab398ee0b"
      },
      "id": "Q1p_du0xsoEQ",
      "execution_count": 27,
      "outputs": [
        {
          "output_type": "stream",
          "name": "stdout",
          "text": [
            "RAM List: [4, 12, 8, 8]\n",
            "Storage List: [128, 128, 64, 128]\n",
            "Price List: [900, 899, 600, 1000]\n"
          ]
        }
      ]
    }
  ],
  "metadata": {
    "kernelspec": {
      "display_name": "Python 3",
      "name": "python3"
    },
    "language_info": {
      "name": "python"
    },
    "required_libs": [],
    "colab": {
      "provenance": [],
      "include_colab_link": true
    }
  },
  "nbformat": 4,
  "nbformat_minor": 5
}